{
 "cells": [
  {
   "cell_type": "code",
   "execution_count": 56,
   "metadata": {},
   "outputs": [
    {
     "name": "stdout",
     "output_type": "stream",
     "text": [
      "<div class=\"_1-2Iqu row\"><div class=\"col col-7-12\"><div class=\"_3wU53n\">Apple iPhone X (Space Gray, 64 GB)</div><div class=\"niH0FQ\"><span class=\"_2_KrJI\" id=\"productRating_LSTMOBEXRGVCMGVCGGQFLD1LA_MOBEXRGVCMGVCGGQ_\"><div class=\"hGSR34\">4.6<img class=\"_2lQ_WZ\" src=\"data:image/svg+xml;base64,PHN2ZyB4bWxucz0iaHR0cDovL3d3dy53My5vcmcvMjAwMC9zdmciIHdpZHRoPSIxMyIgaGVpZ2h0PSIxMiI+PHBhdGggZmlsbD0iI0ZGRiIgZD0iTTYuNSA5LjQzOWwtMy42NzQgMi4yMy45NC00LjI2LTMuMjEtMi44ODMgNC4yNTQtLjQwNEw2LjUuMTEybDEuNjkgNC4wMSA0LjI1NC40MDQtMy4yMSAyLjg4Mi45NCA0LjI2eiIvPjwvc3ZnPg==\"/></div></span><span class=\"_38sUEc\"><span><span>6,186 Ratings </span><span class=\"_1VpSqZ\">&amp;</span><span> 589 Reviews</span></span></span></div><div class=\"_3ULzGw\"><ul class=\"vFw0gD\"><li class=\"tVe95H\">64 GB ROM |</li><li class=\"tVe95H\">14.73 cm (5.8 inch) Super Retina HD Display</li><li class=\"tVe95H\">12MP + 12MP | 7MP Front Camera</li><li class=\"tVe95H\">A11 Bionic Chip with 64-bit Architecture, Neural Engine, Embedded M11 Motion Coprocessor Processor</li><li class=\"tVe95H\">Brand Warranty of 1 Year</li></ul></div></div><div class=\"col col-5-12 _2o7WAb\"><div class=\"_6BWGkk\"><div class=\"_1uv9Cb\"><div class=\"_1vC4OE _2rQ-NK\">₹69,999</div><div class=\"_3auQ3N _2GcJzG\">₹<!-- -->91,900</div><div class=\"VGWI6T\"><span>23% off</span></div></div></div><div class=\"_3n6o0t\"><img height=\"21\" src=\"//img1a.flixcart.com/www/linchpin/fk-cp-zion/img/fa_8b4b59.png\"/></div><div class=\"_3gVem9\"><span>Up to <span class=\"_2xjzPG\">₹17,900</span> Off on Exchange</span></div><div class=\"_3MCpsc\">EMI starting from <span class=\"_1JT2XE\">₹<!-- -->2325<!-- -->/month</span></div><div class=\"OPF9v4 _2WQngC\"><span class=\"_1xZuAn\">Offers</span><ul class=\"_3U7997\"><li class=\"_1ZRRx1\">No Cost EMI</li><li class=\"_1ZRRx1\">Special Price</li></ul></div></div></div>\n"
     ]
    }
   ],
   "source": [
    "from bs4 import BeautifulSoup as soup\n",
    "from urllib.request import urlopen as uReq\n",
    "\n",
    "my_url='https://www.flipkart.com/search?q=iphone&otracker=search&otracker1=search&marketplace=FLIPKART&as-show=off&as=off'\n",
    "\n",
    "uClient=uReq(my_url)\n",
    "page_html=uClient.read()\n",
    "uClient.close()\n",
    "page_soup=soup(page_html,'html.parser')\n",
    "containers=page_soup.findAll('div',{ 'class':\"_1UoZlX\"})\n",
    "#print(len(containers))\n",
    "\n",
    "#print(soup.prettify(containers[0]))\n",
    "container=containers[0]\n",
    "#title=container.findAll('div',{'class':'_3BTv9X'})\n",
    "\n",
    "#print(container.div.img)\n",
    "title=container.findAll('div',{'class':'_1-2Iqu row'})\n",
    "'''\n",
    "for i in title:\n",
    "    print(i.find('div',{'class':'_3wU53n'}).text)\n",
    "'''\n",
    "for i in title:\n",
    "    print(i)\n",
    "price=container.findAll('div',{'class':'col col-5-12 _2o7WAb'})\n",
    "#print(price[0].text)\n",
    "\n",
    "ratings=container.findAll('div',{'class':'niH0FQ'})\n",
    "#print(ratings[0].text)\n",
    "\n",
    "filename=\"products.csv\"\n",
    "f=open(filename,'w')\n",
    "\n",
    "headers=\"pricing,ratings\\n\"\n",
    "f.write(headers)\n",
    "\n",
    "for container in containers:\n",
    "    ratings_container=container.findAll('div',{'class':'niH0FQ'})\n",
    "    ratings=ratings_container[0].text\n",
    "    #print(ratings)\n",
    "    \n",
    "    price_container=container.findAll('div',{'class':'col col-5-12 _2o7WAb'})\n",
    "    price=price_container[0].text.strip()\n",
    "    #print(price)\n",
    "    \n",
    "#String parsing\n",
    " #trim_price=price.split(''\n",
    "trim_rating=ratings.split(',')\n",
    "final_rating=trim_rating[0]\n",
    "\n",
    "\n",
    "                        \n",
    "     \n",
    "    \n",
    "   \n",
    "\n",
    "\n",
    "\n",
    "\n",
    "\n",
    "\n"
   ]
  },
  {
   "cell_type": "code",
   "execution_count": null,
   "metadata": {
    "collapsed": true
   },
   "outputs": [],
   "source": []
  }
 ],
 "metadata": {
  "kernelspec": {
   "display_name": "Python 3",
   "language": "python",
   "name": "python3"
  },
  "language_info": {
   "codemirror_mode": {
    "name": "ipython",
    "version": 3
   },
   "file_extension": ".py",
   "mimetype": "text/x-python",
   "name": "python",
   "nbconvert_exporter": "python",
   "pygments_lexer": "ipython3",
   "version": "3.6.3"
  }
 },
 "nbformat": 4,
 "nbformat_minor": 2
}
